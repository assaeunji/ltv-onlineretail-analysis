{
 "cells": [
  {
   "cell_type": "code",
   "execution_count": 35,
   "metadata": {},
   "outputs": [],
   "source": [
    "import pandas as pd\n",
    "import warnings\n",
    "import os\n",
    "import numpy as np\n",
    "from lifetimes.plotting import *\n",
    "from lifetimes.utils import *\n",
    "from datetime import datetime\n",
    "from datetime import timedelta\n",
    "\n",
    "warnings.filterwarnings('ignore')\n",
    "os.chdir('/Users/eunji/Library/Mobile Documents/com~apple~CloudDocs/data-analysis/LTV/')"
   ]
  },
  {
   "cell_type": "code",
   "execution_count": 3,
   "metadata": {},
   "outputs": [
    {
     "data": {
      "text/html": [
       "<div>\n",
       "<style scoped>\n",
       "    .dataframe tbody tr th:only-of-type {\n",
       "        vertical-align: middle;\n",
       "    }\n",
       "\n",
       "    .dataframe tbody tr th {\n",
       "        vertical-align: top;\n",
       "    }\n",
       "\n",
       "    .dataframe thead th {\n",
       "        text-align: right;\n",
       "    }\n",
       "</style>\n",
       "<table border=\"1\" class=\"dataframe\">\n",
       "  <thead>\n",
       "    <tr style=\"text-align: right;\">\n",
       "      <th></th>\n",
       "      <th>InvoiceNo</th>\n",
       "      <th>StockCode</th>\n",
       "      <th>Description</th>\n",
       "      <th>Quantity</th>\n",
       "      <th>InvoiceDate</th>\n",
       "      <th>UnitPrice</th>\n",
       "      <th>CustomerID</th>\n",
       "      <th>Country</th>\n",
       "    </tr>\n",
       "  </thead>\n",
       "  <tbody>\n",
       "    <tr>\n",
       "      <th>0</th>\n",
       "      <td>536365</td>\n",
       "      <td>85123A</td>\n",
       "      <td>WHITE HANGING HEART T-LIGHT HOLDER</td>\n",
       "      <td>6</td>\n",
       "      <td>2010-12-01 08:26:00</td>\n",
       "      <td>2.55</td>\n",
       "      <td>17850.0</td>\n",
       "      <td>United Kingdom</td>\n",
       "    </tr>\n",
       "    <tr>\n",
       "      <th>1</th>\n",
       "      <td>536365</td>\n",
       "      <td>71053</td>\n",
       "      <td>WHITE METAL LANTERN</td>\n",
       "      <td>6</td>\n",
       "      <td>2010-12-01 08:26:00</td>\n",
       "      <td>3.39</td>\n",
       "      <td>17850.0</td>\n",
       "      <td>United Kingdom</td>\n",
       "    </tr>\n",
       "    <tr>\n",
       "      <th>2</th>\n",
       "      <td>536365</td>\n",
       "      <td>84406B</td>\n",
       "      <td>CREAM CUPID HEARTS COAT HANGER</td>\n",
       "      <td>8</td>\n",
       "      <td>2010-12-01 08:26:00</td>\n",
       "      <td>2.75</td>\n",
       "      <td>17850.0</td>\n",
       "      <td>United Kingdom</td>\n",
       "    </tr>\n",
       "    <tr>\n",
       "      <th>3</th>\n",
       "      <td>536365</td>\n",
       "      <td>84029G</td>\n",
       "      <td>KNITTED UNION FLAG HOT WATER BOTTLE</td>\n",
       "      <td>6</td>\n",
       "      <td>2010-12-01 08:26:00</td>\n",
       "      <td>3.39</td>\n",
       "      <td>17850.0</td>\n",
       "      <td>United Kingdom</td>\n",
       "    </tr>\n",
       "    <tr>\n",
       "      <th>4</th>\n",
       "      <td>536365</td>\n",
       "      <td>84029E</td>\n",
       "      <td>RED WOOLLY HOTTIE WHITE HEART.</td>\n",
       "      <td>6</td>\n",
       "      <td>2010-12-01 08:26:00</td>\n",
       "      <td>3.39</td>\n",
       "      <td>17850.0</td>\n",
       "      <td>United Kingdom</td>\n",
       "    </tr>\n",
       "  </tbody>\n",
       "</table>\n",
       "</div>"
      ],
      "text/plain": [
       "  InvoiceNo StockCode                          Description  Quantity  \\\n",
       "0    536365    85123A   WHITE HANGING HEART T-LIGHT HOLDER         6   \n",
       "1    536365     71053                  WHITE METAL LANTERN         6   \n",
       "2    536365    84406B       CREAM CUPID HEARTS COAT HANGER         8   \n",
       "3    536365    84029G  KNITTED UNION FLAG HOT WATER BOTTLE         6   \n",
       "4    536365    84029E       RED WOOLLY HOTTIE WHITE HEART.         6   \n",
       "\n",
       "          InvoiceDate  UnitPrice  CustomerID         Country  \n",
       "0 2010-12-01 08:26:00       2.55     17850.0  United Kingdom  \n",
       "1 2010-12-01 08:26:00       3.39     17850.0  United Kingdom  \n",
       "2 2010-12-01 08:26:00       2.75     17850.0  United Kingdom  \n",
       "3 2010-12-01 08:26:00       3.39     17850.0  United Kingdom  \n",
       "4 2010-12-01 08:26:00       3.39     17850.0  United Kingdom  "
      ]
     },
     "execution_count": 3,
     "metadata": {},
     "output_type": "execute_result"
    }
   ],
   "source": [
    "df = pd.read_excel(\"Online Retail.xlsx\")\n",
    "df.head()"
   ]
  },
  {
   "cell_type": "code",
   "execution_count": 11,
   "metadata": {},
   "outputs": [],
   "source": [
    "# 전처리\n",
    "# InvoiceDate (주문 일자)): Datetime -> date형å\n",
    "df['InvoiceDate'] = pd.to_datetime(df['InvoiceDate']).dt.date\n",
    "\n",
    "# CustomerID: NULL인 것 제외\n",
    "df = df[pd.notnull(df['CustomerID'])] \n",
    "\n",
    "# Quantity (주문 수량): 1 이상인 것\n",
    "df = df[(df['Quantity'] > 0)] \n",
    "\n",
    "# Sales (구매 금액) 변수 생성\n",
    "df['Sales'] = df['Quantity'] * df['UnitPrice']"
   ]
  },
  {
   "cell_type": "code",
   "execution_count": 14,
   "metadata": {},
   "outputs": [
    {
     "name": "stdout",
     "output_type": "stream",
     "text": [
      "4339\n"
     ]
    }
   ],
   "source": [
    "# 고객 번호, 주문 일자, 구매 금액만 남기고 지우기\n",
    "cols_of_interest = ['CustomerID', 'InvoiceDate', 'Sales']\n",
    "df = df[cols_of_interest]\n",
    "\n",
    "print(df['CustomerID'].nunique()) #4339명"
   ]
  },
  {
   "cell_type": "code",
   "execution_count": 15,
   "metadata": {},
   "outputs": [
    {
     "data": {
      "text/html": [
       "<div>\n",
       "<style scoped>\n",
       "    .dataframe tbody tr th:only-of-type {\n",
       "        vertical-align: middle;\n",
       "    }\n",
       "\n",
       "    .dataframe tbody tr th {\n",
       "        vertical-align: top;\n",
       "    }\n",
       "\n",
       "    .dataframe thead th {\n",
       "        text-align: right;\n",
       "    }\n",
       "</style>\n",
       "<table border=\"1\" class=\"dataframe\">\n",
       "  <thead>\n",
       "    <tr style=\"text-align: right;\">\n",
       "      <th></th>\n",
       "      <th>CustomerID</th>\n",
       "      <th>InvoiceDate</th>\n",
       "      <th>Sales</th>\n",
       "    </tr>\n",
       "  </thead>\n",
       "  <tbody>\n",
       "    <tr>\n",
       "      <th>0</th>\n",
       "      <td>17850.0</td>\n",
       "      <td>2010-12-01</td>\n",
       "      <td>15.30</td>\n",
       "    </tr>\n",
       "    <tr>\n",
       "      <th>1</th>\n",
       "      <td>17850.0</td>\n",
       "      <td>2010-12-01</td>\n",
       "      <td>20.34</td>\n",
       "    </tr>\n",
       "    <tr>\n",
       "      <th>2</th>\n",
       "      <td>17850.0</td>\n",
       "      <td>2010-12-01</td>\n",
       "      <td>22.00</td>\n",
       "    </tr>\n",
       "    <tr>\n",
       "      <th>3</th>\n",
       "      <td>17850.0</td>\n",
       "      <td>2010-12-01</td>\n",
       "      <td>20.34</td>\n",
       "    </tr>\n",
       "    <tr>\n",
       "      <th>4</th>\n",
       "      <td>17850.0</td>\n",
       "      <td>2010-12-01</td>\n",
       "      <td>20.34</td>\n",
       "    </tr>\n",
       "  </tbody>\n",
       "</table>\n",
       "</div>"
      ],
      "text/plain": [
       "   CustomerID InvoiceDate  Sales\n",
       "0     17850.0  2010-12-01  15.30\n",
       "1     17850.0  2010-12-01  20.34\n",
       "2     17850.0  2010-12-01  22.00\n",
       "3     17850.0  2010-12-01  20.34\n",
       "4     17850.0  2010-12-01  20.34"
      ]
     },
     "execution_count": 15,
     "metadata": {},
     "output_type": "execute_result"
    }
   ],
   "source": [
    "df.head()"
   ]
  },
  {
   "cell_type": "code",
   "execution_count": 17,
   "metadata": {},
   "outputs": [
    {
     "data": {
      "text/html": [
       "<div>\n",
       "<style scoped>\n",
       "    .dataframe tbody tr th:only-of-type {\n",
       "        vertical-align: middle;\n",
       "    }\n",
       "\n",
       "    .dataframe tbody tr th {\n",
       "        vertical-align: top;\n",
       "    }\n",
       "\n",
       "    .dataframe thead th {\n",
       "        text-align: right;\n",
       "    }\n",
       "</style>\n",
       "<table border=\"1\" class=\"dataframe\">\n",
       "  <thead>\n",
       "    <tr style=\"text-align: right;\">\n",
       "      <th></th>\n",
       "      <th>frequency</th>\n",
       "      <th>recency</th>\n",
       "      <th>T</th>\n",
       "      <th>monetary_value</th>\n",
       "    </tr>\n",
       "    <tr>\n",
       "      <th>CustomerID</th>\n",
       "      <th></th>\n",
       "      <th></th>\n",
       "      <th></th>\n",
       "      <th></th>\n",
       "    </tr>\n",
       "  </thead>\n",
       "  <tbody>\n",
       "    <tr>\n",
       "      <th>12346.0</th>\n",
       "      <td>0.0</td>\n",
       "      <td>0.0</td>\n",
       "      <td>325.0</td>\n",
       "      <td>0.000000</td>\n",
       "    </tr>\n",
       "    <tr>\n",
       "      <th>12347.0</th>\n",
       "      <td>6.0</td>\n",
       "      <td>365.0</td>\n",
       "      <td>367.0</td>\n",
       "      <td>599.701667</td>\n",
       "    </tr>\n",
       "    <tr>\n",
       "      <th>12348.0</th>\n",
       "      <td>3.0</td>\n",
       "      <td>283.0</td>\n",
       "      <td>358.0</td>\n",
       "      <td>301.480000</td>\n",
       "    </tr>\n",
       "    <tr>\n",
       "      <th>12349.0</th>\n",
       "      <td>0.0</td>\n",
       "      <td>0.0</td>\n",
       "      <td>18.0</td>\n",
       "      <td>0.000000</td>\n",
       "    </tr>\n",
       "    <tr>\n",
       "      <th>12350.0</th>\n",
       "      <td>0.0</td>\n",
       "      <td>0.0</td>\n",
       "      <td>310.0</td>\n",
       "      <td>0.000000</td>\n",
       "    </tr>\n",
       "  </tbody>\n",
       "</table>\n",
       "</div>"
      ],
      "text/plain": [
       "            frequency  recency      T  monetary_value\n",
       "CustomerID                                           \n",
       "12346.0           0.0      0.0  325.0        0.000000\n",
       "12347.0           6.0    365.0  367.0      599.701667\n",
       "12348.0           3.0    283.0  358.0      301.480000\n",
       "12349.0           0.0      0.0   18.0        0.000000\n",
       "12350.0           0.0      0.0  310.0        0.000000"
      ]
     },
     "execution_count": 17,
     "metadata": {},
     "output_type": "execute_result"
    }
   ],
   "source": [
    "#----------------------------------------\n",
    "# summary_data_from_transaction_data 함수\n",
    "# 구매 기록 데이터를 바탕으로 R, F, M, T을 계산해주는 함수\n",
    "\n",
    "current_date = df['InvoiceDate'].max()\n",
    "\n",
    "metrics_df = summary_data_from_transaction_data(df\n",
    "                                          , customer_id_col = 'CustomerID'\n",
    "                                          , datetime_col = 'InvoiceDate'\n",
    "                                          , monetary_value_col='Sales'\n",
    "                                          , observation_period_end=current_date)\n",
    "metrics_df.head()"
   ]
  },
  {
   "cell_type": "code",
   "execution_count": 39,
   "metadata": {},
   "outputs": [
    {
     "data": {
      "text/html": [
       "<div>\n",
       "<style scoped>\n",
       "    .dataframe tbody tr th:only-of-type {\n",
       "        vertical-align: middle;\n",
       "    }\n",
       "\n",
       "    .dataframe tbody tr th {\n",
       "        vertical-align: top;\n",
       "    }\n",
       "\n",
       "    .dataframe thead th {\n",
       "        text-align: right;\n",
       "    }\n",
       "</style>\n",
       "<table border=\"1\" class=\"dataframe\">\n",
       "  <thead>\n",
       "    <tr style=\"text-align: right;\">\n",
       "      <th></th>\n",
       "      <th>frequency</th>\n",
       "      <th>recency</th>\n",
       "      <th>T</th>\n",
       "      <th>monetary_value</th>\n",
       "    </tr>\n",
       "    <tr>\n",
       "      <th>CustomerID</th>\n",
       "      <th></th>\n",
       "      <th></th>\n",
       "      <th></th>\n",
       "      <th></th>\n",
       "    </tr>\n",
       "  </thead>\n",
       "  <tbody>\n",
       "    <tr>\n",
       "      <th>12347.0</th>\n",
       "      <td>6.0</td>\n",
       "      <td>365.0</td>\n",
       "      <td>367.0</td>\n",
       "      <td>599.701667</td>\n",
       "    </tr>\n",
       "  </tbody>\n",
       "</table>\n",
       "</div>"
      ],
      "text/plain": [
       "            frequency  recency      T  monetary_value\n",
       "CustomerID                                           \n",
       "12347.0           6.0    365.0  367.0      599.701667"
      ]
     },
     "execution_count": 39,
     "metadata": {},
     "output_type": "execute_result"
    }
   ],
   "source": [
    "# 예시\n",
    "metrics_df[metrics_df.index==12347]"
   ]
  },
  {
   "cell_type": "code",
   "execution_count": 33,
   "metadata": {},
   "outputs": [
    {
     "data": {
      "text/html": [
       "<div>\n",
       "<style scoped>\n",
       "    .dataframe tbody tr th:only-of-type {\n",
       "        vertical-align: middle;\n",
       "    }\n",
       "\n",
       "    .dataframe tbody tr th {\n",
       "        vertical-align: top;\n",
       "    }\n",
       "\n",
       "    .dataframe thead th {\n",
       "        text-align: right;\n",
       "    }\n",
       "</style>\n",
       "<table border=\"1\" class=\"dataframe\">\n",
       "  <thead>\n",
       "    <tr style=\"text-align: right;\">\n",
       "      <th></th>\n",
       "      <th>CustomerID</th>\n",
       "      <th>InvoiceDate</th>\n",
       "      <th>Sales</th>\n",
       "    </tr>\n",
       "  </thead>\n",
       "  <tbody>\n",
       "    <tr>\n",
       "      <th>14938</th>\n",
       "      <td>12347.0</td>\n",
       "      <td>2010-12-07</td>\n",
       "      <td>25.2</td>\n",
       "    </tr>\n",
       "    <tr>\n",
       "      <th>14939</th>\n",
       "      <td>12347.0</td>\n",
       "      <td>2010-12-07</td>\n",
       "      <td>17.0</td>\n",
       "    </tr>\n",
       "    <tr>\n",
       "      <th>14940</th>\n",
       "      <td>12347.0</td>\n",
       "      <td>2010-12-07</td>\n",
       "      <td>39.0</td>\n",
       "    </tr>\n",
       "    <tr>\n",
       "      <th>14941</th>\n",
       "      <td>12347.0</td>\n",
       "      <td>2010-12-07</td>\n",
       "      <td>23.4</td>\n",
       "    </tr>\n",
       "    <tr>\n",
       "      <th>14942</th>\n",
       "      <td>12347.0</td>\n",
       "      <td>2010-12-07</td>\n",
       "      <td>15.0</td>\n",
       "    </tr>\n",
       "  </tbody>\n",
       "</table>\n",
       "</div>"
      ],
      "text/plain": [
       "       CustomerID InvoiceDate  Sales\n",
       "14938     12347.0  2010-12-07   25.2\n",
       "14939     12347.0  2010-12-07   17.0\n",
       "14940     12347.0  2010-12-07   39.0\n",
       "14941     12347.0  2010-12-07   23.4\n",
       "14942     12347.0  2010-12-07   15.0"
      ]
     },
     "execution_count": 33,
     "metadata": {},
     "output_type": "execute_result"
    }
   ],
   "source": [
    "## 수동 계산해보기!\n",
    "example = df[df['CustomerID']==12347]\n",
    "example.head()"
   ]
  },
  {
   "cell_type": "code",
   "execution_count": 34,
   "metadata": {},
   "outputs": [
    {
     "name": "stdout",
     "output_type": "stream",
     "text": [
      "6\n",
      "365 days, 0:00:00\n",
      "367 days, 0:00:00\n",
      "599.7016666666667\n"
     ]
    }
   ],
   "source": [
    "# frequency = 6\n",
    "print(len(example['InvoiceDate'].unique())-1)\n",
    "\n",
    "# recency = 365: 최대 주문일 - 최소 주문일\n",
    "print(max(example['InvoiceDate']) - min(example['InvoiceDate']))\n",
    "\n",
    "# T = 367: 집계일 - 최소 주문일\n",
    "print(current_date - min(example['InvoiceDate']))\n",
    "\n",
    "# monetary_value = 599.701667, 평균 구매 금액\n",
    "ex_daily_sales = example.groupby(\"InvoiceDate\")[\"Sales\"].sum()\n",
    "print(np.mean(ex_daily_sales[1:]))"
   ]
  },
  {
   "cell_type": "markdown",
   "metadata": {},
   "source": [
    "## Calibration / Holdout 나누기"
   ]
  },
  {
   "cell_type": "code",
   "execution_count": 100,
   "metadata": {},
   "outputs": [
    {
     "data": {
      "text/plain": [
       "datetime.timedelta(days=373)"
      ]
     },
     "execution_count": 100,
     "metadata": {},
     "output_type": "execute_result"
    }
   ],
   "source": [
    "max(df['InvoiceDate']) - min(df['InvoiceDate'])"
   ]
  },
  {
   "cell_type": "code",
   "execution_count": 101,
   "metadata": {},
   "outputs": [
    {
     "data": {
      "text/html": [
       "<div>\n",
       "<style scoped>\n",
       "    .dataframe tbody tr th:only-of-type {\n",
       "        vertical-align: middle;\n",
       "    }\n",
       "\n",
       "    .dataframe tbody tr th {\n",
       "        vertical-align: top;\n",
       "    }\n",
       "\n",
       "    .dataframe thead th {\n",
       "        text-align: right;\n",
       "    }\n",
       "</style>\n",
       "<table border=\"1\" class=\"dataframe\">\n",
       "  <thead>\n",
       "    <tr style=\"text-align: right;\">\n",
       "      <th></th>\n",
       "      <th>frequency_cal</th>\n",
       "      <th>recency_cal</th>\n",
       "      <th>T_cal</th>\n",
       "      <th>monetary_value_cal</th>\n",
       "      <th>frequency_holdout</th>\n",
       "      <th>monetary_value_holdout</th>\n",
       "      <th>duration_holdout</th>\n",
       "    </tr>\n",
       "    <tr>\n",
       "      <th>CustomerID</th>\n",
       "      <th></th>\n",
       "      <th></th>\n",
       "      <th></th>\n",
       "      <th></th>\n",
       "      <th></th>\n",
       "      <th></th>\n",
       "      <th></th>\n",
       "    </tr>\n",
       "  </thead>\n",
       "  <tbody>\n",
       "    <tr>\n",
       "      <th>12346.0</th>\n",
       "      <td>0.0</td>\n",
       "      <td>0.0</td>\n",
       "      <td>235.0</td>\n",
       "      <td>0.0000</td>\n",
       "      <td>0.0</td>\n",
       "      <td>0.000000</td>\n",
       "      <td>90.0</td>\n",
       "    </tr>\n",
       "    <tr>\n",
       "      <th>12347.0</th>\n",
       "      <td>4.0</td>\n",
       "      <td>238.0</td>\n",
       "      <td>277.0</td>\n",
       "      <td>519.7675</td>\n",
       "      <td>2.0</td>\n",
       "      <td>26.192069</td>\n",
       "      <td>90.0</td>\n",
       "    </tr>\n",
       "    <tr>\n",
       "      <th>12348.0</th>\n",
       "      <td>2.0</td>\n",
       "      <td>110.0</td>\n",
       "      <td>268.0</td>\n",
       "      <td>297.2200</td>\n",
       "      <td>1.0</td>\n",
       "      <td>103.333333</td>\n",
       "      <td>90.0</td>\n",
       "    </tr>\n",
       "    <tr>\n",
       "      <th>12350.0</th>\n",
       "      <td>0.0</td>\n",
       "      <td>0.0</td>\n",
       "      <td>220.0</td>\n",
       "      <td>0.0000</td>\n",
       "      <td>0.0</td>\n",
       "      <td>0.000000</td>\n",
       "      <td>90.0</td>\n",
       "    </tr>\n",
       "    <tr>\n",
       "      <th>12352.0</th>\n",
       "      <td>3.0</td>\n",
       "      <td>34.0</td>\n",
       "      <td>206.0</td>\n",
       "      <td>421.7700</td>\n",
       "      <td>3.0</td>\n",
       "      <td>20.090000</td>\n",
       "      <td>90.0</td>\n",
       "    </tr>\n",
       "  </tbody>\n",
       "</table>\n",
       "</div>"
      ],
      "text/plain": [
       "            frequency_cal  recency_cal  T_cal  monetary_value_cal  \\\n",
       "CustomerID                                                          \n",
       "12346.0               0.0          0.0  235.0              0.0000   \n",
       "12347.0               4.0        238.0  277.0            519.7675   \n",
       "12348.0               2.0        110.0  268.0            297.2200   \n",
       "12350.0               0.0          0.0  220.0              0.0000   \n",
       "12352.0               3.0         34.0  206.0            421.7700   \n",
       "\n",
       "            frequency_holdout  monetary_value_holdout  duration_holdout  \n",
       "CustomerID                                                               \n",
       "12346.0                   0.0                0.000000              90.0  \n",
       "12347.0                   2.0               26.192069              90.0  \n",
       "12348.0                   1.0              103.333333              90.0  \n",
       "12350.0                   0.0                0.000000              90.0  \n",
       "12352.0                   3.0               20.090000              90.0  "
      ]
     },
     "execution_count": 101,
     "metadata": {},
     "output_type": "execute_result"
    }
   ],
   "source": [
    "#----------------------------------------\n",
    "# calibration_and_holdout_data\n",
    "# train과 test set을 나눠서 R,F,M을 계산해주는 함수\n",
    "\n",
    "holdout_days = 90\n",
    "calibration_end_date = current_date - timedelta(days = holdout_days)\n",
    "\n",
    "metrics_cal_df = calibration_and_holdout_data(df\n",
    "                                          ,customer_id_col = 'CustomerID'\n",
    "                                          ,datetime_col = 'InvoiceDate'\n",
    "                                          ,calibration_period_end=calibration_end_date # train 데이터 기간\n",
    "                                          ,observation_period_end=current_date         # 끝 기간\n",
    "                                          ,freq='D'\n",
    "                                          ,monetary_value_col='Sales')\n",
    "\n",
    "metrics_cal_df.head()"
   ]
  },
  {
   "cell_type": "code",
   "execution_count": 102,
   "metadata": {},
   "outputs": [
    {
     "data": {
      "text/html": [
       "<div>\n",
       "<style scoped>\n",
       "    .dataframe tbody tr th:only-of-type {\n",
       "        vertical-align: middle;\n",
       "    }\n",
       "\n",
       "    .dataframe tbody tr th {\n",
       "        vertical-align: top;\n",
       "    }\n",
       "\n",
       "    .dataframe thead th {\n",
       "        text-align: right;\n",
       "    }\n",
       "</style>\n",
       "<table border=\"1\" class=\"dataframe\">\n",
       "  <thead>\n",
       "    <tr style=\"text-align: right;\">\n",
       "      <th></th>\n",
       "      <th>frequency_cal</th>\n",
       "      <th>recency_cal</th>\n",
       "      <th>T_cal</th>\n",
       "      <th>monetary_value_cal</th>\n",
       "      <th>frequency_holdout</th>\n",
       "      <th>monetary_value_holdout</th>\n",
       "      <th>duration_holdout</th>\n",
       "    </tr>\n",
       "    <tr>\n",
       "      <th>CustomerID</th>\n",
       "      <th></th>\n",
       "      <th></th>\n",
       "      <th></th>\n",
       "      <th></th>\n",
       "      <th></th>\n",
       "      <th></th>\n",
       "      <th></th>\n",
       "    </tr>\n",
       "  </thead>\n",
       "  <tbody>\n",
       "    <tr>\n",
       "      <th>12347.0</th>\n",
       "      <td>4.0</td>\n",
       "      <td>238.0</td>\n",
       "      <td>277.0</td>\n",
       "      <td>519.7675</td>\n",
       "      <td>2.0</td>\n",
       "      <td>26.192069</td>\n",
       "      <td>90.0</td>\n",
       "    </tr>\n",
       "  </tbody>\n",
       "</table>\n",
       "</div>"
      ],
      "text/plain": [
       "            frequency_cal  recency_cal  T_cal  monetary_value_cal  \\\n",
       "CustomerID                                                          \n",
       "12347.0               4.0        238.0  277.0            519.7675   \n",
       "\n",
       "            frequency_holdout  monetary_value_holdout  duration_holdout  \n",
       "CustomerID                                                               \n",
       "12347.0                   2.0               26.192069              90.0  "
      ]
     },
     "execution_count": 102,
     "metadata": {},
     "output_type": "execute_result"
    }
   ],
   "source": [
    "metrics_cal_df[metrics_cal_df.index==12347]"
   ]
  },
  {
   "cell_type": "code",
   "execution_count": 104,
   "metadata": {},
   "outputs": [
    {
     "name": "stdout",
     "output_type": "stream",
     "text": [
      "4\n",
      "238 days, 0:00:00\n",
      "277 days, 0:00:00\n",
      "519.7674999999999\n"
     ]
    }
   ],
   "source": [
    "# calibration_end_date까지의 데이터로 R,F,M,T 계산\n",
    "example = df[(df['CustomerID']==12347) & (df['InvoiceDate'] <=calibration_end_date)]\n",
    "\n",
    "# frequency_cal\n",
    "print(len(example['InvoiceDate'].unique())-1)\n",
    "\n",
    "# recency_cal\n",
    "print(max(example['InvoiceDate']) - min(example['InvoiceDate']))\n",
    "\n",
    "# T_cal\n",
    "print(calibration_end_date - min(example['InvoiceDate']))\n",
    "\n",
    "# monetary_value_cal\n",
    "ex_daily_sales = example.groupby(\"InvoiceDate\")[\"Sales\"].sum()\n",
    "print(np.mean(ex_daily_sales[1:]))"
   ]
  },
  {
   "cell_type": "code",
   "execution_count": 131,
   "metadata": {},
   "outputs": [],
   "source": [
    "## frequency가 0인 것은 제외하기\n",
    "whole_filtered_df = metrics_df[metrics_df.frequency > 0]\n",
    "filtered_df       = metrics_cal_df[metrics_cal_df.frequency_cal > 0]"
   ]
  },
  {
   "cell_type": "code",
   "execution_count": 132,
   "metadata": {},
   "outputs": [
    {
     "data": {
      "text/html": [
       "<div>\n",
       "<style scoped>\n",
       "    .dataframe tbody tr th:only-of-type {\n",
       "        vertical-align: middle;\n",
       "    }\n",
       "\n",
       "    .dataframe tbody tr th {\n",
       "        vertical-align: top;\n",
       "    }\n",
       "\n",
       "    .dataframe thead th {\n",
       "        text-align: right;\n",
       "    }\n",
       "</style>\n",
       "<table border=\"1\" class=\"dataframe\">\n",
       "  <thead>\n",
       "    <tr style=\"text-align: right;\">\n",
       "      <th></th>\n",
       "      <th>frequency_cal</th>\n",
       "      <th>monetary_value_cal</th>\n",
       "    </tr>\n",
       "  </thead>\n",
       "  <tbody>\n",
       "    <tr>\n",
       "      <th>frequency_cal</th>\n",
       "      <td>1.000000</td>\n",
       "      <td>0.105329</td>\n",
       "    </tr>\n",
       "    <tr>\n",
       "      <th>monetary_value_cal</th>\n",
       "      <td>0.105329</td>\n",
       "      <td>1.000000</td>\n",
       "    </tr>\n",
       "  </tbody>\n",
       "</table>\n",
       "</div>"
      ],
      "text/plain": [
       "                    frequency_cal  monetary_value_cal\n",
       "frequency_cal            1.000000            0.105329\n",
       "monetary_value_cal       0.105329            1.000000"
      ]
     },
     "execution_count": 132,
     "metadata": {},
     "output_type": "execute_result"
    }
   ],
   "source": [
    "# whole_filtered_df[['frequency', 'monetary_value']].corr('pearson')\n",
    "filtered_df[['frequency_cal', 'monetary_value_cal']].corr('pearson')"
   ]
  },
  {
   "cell_type": "markdown",
   "metadata": {},
   "source": [
    "## 최적의 L2 파라미터 찾기"
   ]
  },
  {
   "cell_type": "code",
   "execution_count": 133,
   "metadata": {},
   "outputs": [],
   "source": [
    "from hyperopt import hp, fmin, tpe, rand, SparkTrials, STATUS_OK, space_eval, Trials\n",
    "from lifetimes import BetaGeoFitter\n",
    "from lifetimes import ModifiedBetaGeoFitter\n",
    "from lifetimes.fitters.gamma_gamma_fitter import GammaGammaFitter\n",
    "\n",
    "# 평가 지표: default는 MSE\n",
    "def score_model(actuals, predicted, metric='mse'):\n",
    "\n",
    "    metric = metric.lower()\n",
    "\n",
    "    # MSE / RMSE\n",
    "    if metric=='mse' or metric=='rmse':\n",
    "        val = np.sum(np.square(actuals-predicted))/actuals.shape[0]\n",
    "    elif metric=='rmse':\n",
    "        val = np.sqrt(val)\n",
    "    # MAE\n",
    "    elif metric=='mae':\n",
    "        val = np.sum(np.abs(actuals-predicted))/actuals.shape[0]\n",
    "    else:\n",
    "        val = None\n",
    "\n",
    "    return val\n",
    "\n",
    "# BG/NBD 모형 평가\n",
    "def evaluate_bgnbd_model(param):\n",
    "\n",
    "    data   = inputs\n",
    "    l2_reg = param\n",
    "\n",
    "    # 모형 적합\n",
    "    model = BetaGeoFitter(penalizer_coef=l2_reg)\n",
    "    model.fit(data['frequency_cal'], data['recency_cal'], data['T_cal'])\n",
    "\n",
    "    # 모형 평가\n",
    "    frequency_actual = data['frequency_holdout']\n",
    "    frequency_predicted = model.predict(data['duration_holdout']\n",
    "                                        , data['frequency_cal']\n",
    "                                        , data['recency_cal']\n",
    "                                        , data['T_cal']\n",
    "                                       )\n",
    "    mse = score_model(frequency_actual, frequency_predicted, 'mse')\n",
    "\n",
    "    return {'loss': mse, 'status': STATUS_OK}\n",
    "\n",
    "# ModifiedBG/NBD 모형 평가\n",
    "def evaluate_mbgnbd_model(param):\n",
    "\n",
    "    data   = inputs\n",
    "    l2_reg = param\n",
    "\n",
    "    # 모형 적합\n",
    "    model = ModifiedBetaGeoFitter(penalizer_coef=l2_reg)\n",
    "    model.fit(data['frequency_cal'], data['recency_cal'], data['T_cal'])\n",
    "\n",
    "    # 모형 평가\n",
    "    frequency_actual = data['frequency_holdout']\n",
    "    frequency_predicted = model.predict(data['duration_holdout']\n",
    "                                        , data['frequency_cal']\n",
    "                                        , data['recency_cal']\n",
    "                                        , data['T_cal']\n",
    "                                       )\n",
    "    mse = score_model(frequency_actual, frequency_predicted, 'mse')\n",
    "\n",
    "    return {'loss': mse, 'status': STATUS_OK}\n",
    "\n",
    "# Gamma/Gamma 모델 평가\n",
    "def evaluate_gg_model(param):\n",
    "\n",
    "    data   = inputs\n",
    "    l2_reg = param\n",
    "\n",
    "    # GammaGamma 모형 적합\n",
    "    model = GammaGammaFitter(penalizer_coef=l2_reg)\n",
    "    model.fit(data['frequency_cal'], data['monetary_value_cal'])\n",
    "\n",
    "    # 모형 평가\n",
    "    monetary_actual = data['monetary_value_holdout']\n",
    "    monetary_predicted = model.conditional_expected_average_profit(data['frequency_holdout'], data['monetary_value_holdout'])\n",
    "    mse = score_model(monetary_actual, monetary_predicted, 'mse')\n",
    "\n",
    "    # return score and status\n",
    "    return {'loss': mse, 'status': STATUS_OK}"
   ]
  },
  {
   "cell_type": "code",
   "execution_count": 134,
   "metadata": {},
   "outputs": [
    {
     "name": "stdout",
     "output_type": "stream",
     "text": [
      "100%|██████████| 100/100 [00:10<00:00,  9.48trial/s, best loss: 2.9944158459971595]\n",
      "0.9993906227925661\n"
     ]
    }
   ],
   "source": [
    "search_space = hp.uniform('l2', 0.0, 1.0)\n",
    "algo = tpe.suggest\n",
    "trials = Trials()\n",
    "inputs = filtered_df\n",
    "\n",
    "argmin = fmin(\n",
    "  fn = evaluate_bgnbd_model,\n",
    "  space = search_space,\n",
    "  algo = algo,\n",
    "  max_evals=100,\n",
    "  trials=trials\n",
    "  )\n",
    "\n",
    "l2_bgnbd = space_eval(search_space,argmin)\n",
    "print(l2_bgnbd)"
   ]
  },
  {
   "cell_type": "code",
   "execution_count": 109,
   "metadata": {},
   "outputs": [
    {
     "name": "stdout",
     "output_type": "stream",
     "text": [
      "100%|██████████| 100/100 [00:12<00:00,  8.13trial/s, best loss: 2.998585870464829]\n",
      "0.9995083932026302\n"
     ]
    }
   ],
   "source": [
    "# trials = Trials()\n",
    "\n",
    "# argmin = fmin(\n",
    "#   fn = evaluate_mbgnbd_model, # modified BG/NBD\n",
    "#   space = search_space,\n",
    "#   algo = algo,\n",
    "#   max_evals=100,\n",
    "#   trials=trials\n",
    "#   )\n",
    "\n",
    "# l2_mbgnbd = space_eval(search_space,argmin)\n",
    "# print(l2_mbgnbd)"
   ]
  },
  {
   "cell_type": "code",
   "execution_count": 135,
   "metadata": {},
   "outputs": [
    {
     "name": "stdout",
     "output_type": "stream",
     "text": [
      "100%|██████████| 100/100 [00:04<00:00, 24.67trial/s, best loss: 377.115622332971]\n",
      "0.008194647919362311\n"
     ]
    }
   ],
   "source": [
    "trials = Trials()\n",
    "\n",
    "# GammaGamma\n",
    "argmin = fmin(\n",
    "  fn = evaluate_gg_model,\n",
    "  space = search_space,\n",
    "  algo = algo,\n",
    "  max_evals=100,\n",
    "  trials=trials\n",
    "  )\n",
    "\n",
    "l2_gg = space_eval(search_space,argmin)\n",
    "print(l2_gg)"
   ]
  },
  {
   "cell_type": "markdown",
   "metadata": {},
   "source": [
    "### 최적의 L2 penalty로 모형 적합"
   ]
  },
  {
   "cell_type": "code",
   "execution_count": 127,
   "metadata": {},
   "outputs": [
    {
     "name": "stdout",
     "output_type": "stream",
     "text": [
      "MSE: 2.9944204820420146\n"
     ]
    }
   ],
   "source": [
    "lifetimes_model = BetaGeoFitter(penalizer_coef=l2_bgnbd)\n",
    "lifetimes_model.fit(filtered_df['frequency_cal'], filtered_df['recency_cal'], filtered_df['T_cal'])\n",
    "\n",
    "# 모델 평가\n",
    "frequency_actual = filtered_df['frequency_holdout']\n",
    "frequency_predicted = lifetimes_model.predict(filtered_df['duration_holdout']\n",
    "                                    ,filtered_df['frequency_cal'], filtered_df['recency_cal'], filtered_df['T_cal'])\n",
    "mse = score_model(frequency_actual, frequency_predicted, 'mse')\n",
    "print('MSE: {0}'.format(mse))"
   ]
  },
  {
   "cell_type": "code",
   "execution_count": 126,
   "metadata": {},
   "outputs": [
    {
     "name": "stdout",
     "output_type": "stream",
     "text": [
      "MSE: 2.998585870464829\n"
     ]
    }
   ],
   "source": [
    "# lifetimes_model = ModifiedBetaGeoFitter(penalizer_coef=l2_mbgnbd)\n",
    "# lifetimes_model.fit(filtered_df['frequency_cal'], filtered_df['recency_cal'], filtered_df['T_cal'])\n",
    "\n",
    "# # evaluate the model\n",
    "# frequency_actual    = filtered_df['frequency_holdout']\n",
    "# frequency_predicted = lifetimes_model.predict(filtered_df['duration_holdout']\n",
    "#                                     ,filtered_df['frequency_cal'], filtered_df['recency_cal'], filtered_df['T_cal'])\n",
    "# mse = score_model(frequency_actual, frequency_predicted, 'mse')\n",
    "# print('MSE: {0}'.format(mse))"
   ]
  },
  {
   "cell_type": "code",
   "execution_count": 79,
   "metadata": {},
   "outputs": [
    {
     "data": {
      "text/html": [
       "<div>\n",
       "<style scoped>\n",
       "    .dataframe tbody tr th:only-of-type {\n",
       "        vertical-align: middle;\n",
       "    }\n",
       "\n",
       "    .dataframe tbody tr th {\n",
       "        vertical-align: top;\n",
       "    }\n",
       "\n",
       "    .dataframe thead th {\n",
       "        text-align: right;\n",
       "    }\n",
       "</style>\n",
       "<table border=\"1\" class=\"dataframe\">\n",
       "  <thead>\n",
       "    <tr style=\"text-align: right;\">\n",
       "      <th></th>\n",
       "      <th>coef</th>\n",
       "      <th>se(coef)</th>\n",
       "      <th>lower 95% bound</th>\n",
       "      <th>upper 95% bound</th>\n",
       "    </tr>\n",
       "  </thead>\n",
       "  <tbody>\n",
       "    <tr>\n",
       "      <th>r</th>\n",
       "      <td>0.452419</td>\n",
       "      <td>0.008653</td>\n",
       "      <td>0.435459</td>\n",
       "      <td>0.469379</td>\n",
       "    </tr>\n",
       "    <tr>\n",
       "      <th>alpha</th>\n",
       "      <td>25.576835</td>\n",
       "      <td>0.966439</td>\n",
       "      <td>23.682614</td>\n",
       "      <td>27.471057</td>\n",
       "    </tr>\n",
       "    <tr>\n",
       "      <th>a</th>\n",
       "      <td>0.000119</td>\n",
       "      <td>0.000265</td>\n",
       "      <td>-0.000401</td>\n",
       "      <td>0.000639</td>\n",
       "    </tr>\n",
       "    <tr>\n",
       "      <th>b</th>\n",
       "      <td>0.007075</td>\n",
       "      <td>0.014346</td>\n",
       "      <td>-0.021044</td>\n",
       "      <td>0.035194</td>\n",
       "    </tr>\n",
       "  </tbody>\n",
       "</table>\n",
       "</div>"
      ],
      "text/plain": [
       "            coef  se(coef)  lower 95% bound  upper 95% bound\n",
       "r       0.452419  0.008653         0.435459         0.469379\n",
       "alpha  25.576835  0.966439        23.682614        27.471057\n",
       "a       0.000119  0.000265        -0.000401         0.000639\n",
       "b       0.007075  0.014346        -0.021044         0.035194"
      ]
     },
     "execution_count": 79,
     "metadata": {},
     "output_type": "execute_result"
    }
   ],
   "source": [
    "lifetimes_model.summary"
   ]
  },
  {
   "cell_type": "code",
   "execution_count": 137,
   "metadata": {},
   "outputs": [
    {
     "data": {
      "text/plain": [
       "<matplotlib.axes._subplots.AxesSubplot at 0x7fdbba669c70>"
      ]
     },
     "execution_count": 137,
     "metadata": {},
     "output_type": "execute_result"
    },
    {
     "data": {
      "image/png": "[encoded data removed]",
      "text/plain": [
       "<Figure size 432x288 with 1 Axes>"
      ]
     },
     "metadata": {
      "needs_background": "light"
     },
     "output_type": "display_data"
    }
   ],
   "source": [
    "lifetimes_model = BetaGeoFitter(penalizer_coef=l2_bgnbd)\n",
    "lifetimes_model.fit(metrics_df['frequency'], metrics_df['recency'], metrics_df['T'])\n",
    "\n",
    "\n",
    "from lifetimes.plotting import plot_period_transactions\n",
    "plot_period_transactions(lifetimes_model)"
   ]
  },
  {
   "cell_type": "code",
   "execution_count": 118,
   "metadata": {},
   "outputs": [
    {
     "data": {
      "text/plain": [
       "[<matplotlib.lines.Line2D at 0x7fdbb820c580>]"
      ]
     },
     "execution_count": 118,
     "metadata": {},
     "output_type": "execute_result"
    },
    {
     "data": {
      "image/png": "[encoded data removed]",
      "text/plain": [
       "<Figure size 432x288 with 1 Axes>"
      ]
     },
     "metadata": {
      "needs_background": "light"
     },
     "output_type": "display_data"
    }
   ],
   "source": [
    "# 고객별 lambda (구매율) 의 분포\n",
    "from scipy.stats import gamma\n",
    "import matplotlib.pyplot as plt\n",
    "\n",
    "coefs = lifetimes_model.summary['coef']\n",
    "x = np.linspace (0, 2, 100) \n",
    "y = gamma.pdf(x, a=coefs['r'], scale=1/coefs['alpha'])\n",
    "\n",
    "plt.plot(x, y)"
   ]
  },
  {
   "cell_type": "code",
   "execution_count": 119,
   "metadata": {},
   "outputs": [
    {
     "data": {
      "text/plain": [
       "[<matplotlib.lines.Line2D at 0x7fdbbef7f040>]"
      ]
     },
     "execution_count": 119,
     "metadata": {},
     "output_type": "execute_result"
    },
    {
     "data": {
      "image/png": "[encoded data removed]",
      "text/plain": [
       "<Figure size 432x288 with 1 Axes>"
      ]
     },
     "metadata": {
      "needs_background": "light"
     },
     "output_type": "display_data"
    }
   ],
   "source": [
    "# 이탈률 p의 분포\n",
    "from scipy.stats import beta\n",
    "x = np.linspace (0, 1, 100) \n",
    "y = beta.pdf(x, a=coefs['a'], b=coefs['b'])\n",
    "\n",
    "plt.plot(x,y)"
   ]
  },
  {
   "cell_type": "code",
   "execution_count": 120,
   "metadata": {},
   "outputs": [
    {
     "data": {
      "text/html": [
       "<div>\n",
       "<style scoped>\n",
       "    .dataframe tbody tr th:only-of-type {\n",
       "        vertical-align: middle;\n",
       "    }\n",
       "\n",
       "    .dataframe tbody tr th {\n",
       "        vertical-align: top;\n",
       "    }\n",
       "\n",
       "    .dataframe thead th {\n",
       "        text-align: right;\n",
       "    }\n",
       "</style>\n",
       "<table border=\"1\" class=\"dataframe\">\n",
       "  <thead>\n",
       "    <tr style=\"text-align: right;\">\n",
       "      <th></th>\n",
       "      <th>coef</th>\n",
       "      <th>se(coef)</th>\n",
       "      <th>lower 95% bound</th>\n",
       "      <th>upper 95% bound</th>\n",
       "    </tr>\n",
       "  </thead>\n",
       "  <tbody>\n",
       "    <tr>\n",
       "      <th>p</th>\n",
       "      <td>3.527955</td>\n",
       "      <td>0.109036</td>\n",
       "      <td>3.314245</td>\n",
       "      <td>3.741665</td>\n",
       "    </tr>\n",
       "    <tr>\n",
       "      <th>q</th>\n",
       "      <td>0.323137</td>\n",
       "      <td>0.008253</td>\n",
       "      <td>0.306961</td>\n",
       "      <td>0.339314</td>\n",
       "    </tr>\n",
       "    <tr>\n",
       "      <th>v</th>\n",
       "      <td>3.406318</td>\n",
       "      <td>0.110571</td>\n",
       "      <td>3.189599</td>\n",
       "      <td>3.623038</td>\n",
       "    </tr>\n",
       "  </tbody>\n",
       "</table>\n",
       "</div>"
      ],
      "text/plain": [
       "       coef  se(coef)  lower 95% bound  upper 95% bound\n",
       "p  3.527955  0.109036         3.314245         3.741665\n",
       "q  0.323137  0.008253         0.306961         0.339314\n",
       "v  3.406318  0.110571         3.189599         3.623038"
      ]
     },
     "execution_count": 120,
     "metadata": {},
     "output_type": "execute_result"
    }
   ],
   "source": [
    "spend_model = GammaGammaFitter(penalizer_coef=l2_gg)\n",
    "spend_model.fit(filtered_df['frequency_cal'], filtered_df['monetary_value_cal'])\n",
    "spend_model.summary"
   ]
  },
  {
   "cell_type": "code",
   "execution_count": 121,
   "metadata": {},
   "outputs": [
    {
     "name": "stdout",
     "output_type": "stream",
     "text": [
      "MSE: 364.3300491426786\n"
     ]
    }
   ],
   "source": [
    "# conditional_expected_average_profit: 고객별 평균 구매 금액 예측\n",
    "monetary_actual = filtered_df['monetary_value_holdout']\n",
    "monetary_predicted = spend_model.conditional_expected_average_profit(filtered_df['frequency_holdout']\n",
    "                                                                    ,filtered_df['monetary_value_holdout'])\n",
    "\n",
    "mse = score_model(monetary_actual, monetary_predicted, 'mse')\n",
    "\n",
    "print('MSE: {0}'.format(mse))\n"
   ]
  },
  {
   "cell_type": "code",
   "execution_count": 122,
   "metadata": {},
   "outputs": [
    {
     "data": {
      "text/plain": [
       "<matplotlib.legend.Legend at 0x7fdbb2ac8f10>"
      ]
     },
     "execution_count": 122,
     "metadata": {},
     "output_type": "execute_result"
    },
    {
     "data": {
      "image/png": "[encoded data removed]",
      "text/plain": [
       "<Figure size 1080x360 with 1 Axes>"
      ]
     },
     "metadata": {
      "needs_background": "light"
     },
     "output_type": "display_data"
    }
   ],
   "source": [
    "a"
   ]
  },
  {
   "cell_type": "code",
   "execution_count": 123,
   "metadata": {},
   "outputs": [
    {
     "name": "stdout",
     "output_type": "stream",
     "text": [
      "MSE: 64723.15556623815\n"
     ]
    },
    {
     "data": {
      "text/plain": [
       "<matplotlib.legend.Legend at 0x7fdbb7ea1df0>"
      ]
     },
     "execution_count": 123,
     "metadata": {},
     "output_type": "execute_result"
    },
    {
     "data": {
      "image/png": "[encoded data removed]",
      "text/plain": [
       "<Figure size 1080x360 with 1 Axes>"
      ]
     },
     "metadata": {
      "needs_background": "light"
     },
     "output_type": "display_data"
    }
   ],
   "source": [
    "# penalizer_coef 없이 했을 때의 결과\n",
    "spend_model = GammaGammaFitter(penalizer_coef=0)\n",
    "spend_model.fit(filtered_df['frequency_cal'], filtered_df['monetary_value_cal'])\n",
    "\n",
    "# 평가\n",
    "monetary_actual = filtered_df['monetary_value_holdout']\n",
    "monetary_predicted = spend_model.conditional_expected_average_profit(filtered_df['frequency_holdout']\n",
    "                                                                    ,filtered_df['monetary_value_holdout'])\n",
    "\n",
    "mse = score_model(monetary_actual, monetary_predicted, 'mse')\n",
    "\n",
    "print('MSE: {0}'.format(mse))\n",
    "\n",
    "import matplotlib.pyplot as plt\n",
    "\n",
    "# define histogram bin count\n",
    "bins = 100\n",
    "\n",
    "# plot size\n",
    "plt.figure(figsize=(15, 5))\n",
    "\n",
    "# histogram plot values and presentation\n",
    "plt.hist(monetary_actual, bins, label='actual', histtype='bar', color='STEELBLUE', rwidth=0.99)\n",
    "plt.hist( monetary_predicted, bins, label='predict', histtype='step', color='ORANGE',  rwidth=0.99)\n",
    "\n",
    "# place legend on chart\n",
    "plt.legend(loc='upper right')"
   ]
  },
  {
   "cell_type": "markdown",
   "metadata": {},
   "source": [
    "lambda ~ Gamma (alpha, r)\n",
    "Geo(p)\n",
    "p ~ Beta (a,b)"
   ]
  },
  {
   "cell_type": "markdown",
   "metadata": {},
   "source": [
    "## Step 7. CLV 계산하기"
   ]
  },
  {
   "cell_type": "code",
   "execution_count": 153,
   "metadata": {},
   "outputs": [],
   "source": [
    "# LTV 구하기\n",
    "# customer_lifetime_value 함수\n",
    "\n",
    "final_df = whole_filtered_df.copy()\n",
    "final_df['ltv'] = spend_model.customer_lifetime_value(lifetimes_model,\n",
    "                                                     final_df['frequency'],\n",
    "                                                     final_df['recency'],\n",
    "                                                     final_df['T'],\n",
    "                                                     final_df['monetary_value'],\n",
    "                                                     time = 12, # monthly\n",
    "                                                     discount_rate=0.01 # monthly discount rate ~12.7% 연간\n",
    "                                                     )\n",
    "\n",
    "t=365\n",
    "final_df['predicted_purchases'] = lifetimes_model.conditional_expected_number_of_purchases_up_to_time(t\n",
    "                                                                                      , final_df['frequency']\n",
    "                                                                                     , final_df['recency']\n",
    "                                                                                     , final_df['T'])\n",
    "\n",
    "final_df['predicted_monetary_value'] = spend_model.conditional_expected_average_profit(final_df['frequency']\n",
    "                                                                    ,final_df['monetary_value'])\n"
   ]
  },
  {
   "cell_type": "code",
   "execution_count": 154,
   "metadata": {},
   "outputs": [
    {
     "data": {
      "text/html": [
       "<div>\n",
       "<style scoped>\n",
       "    .dataframe tbody tr th:only-of-type {\n",
       "        vertical-align: middle;\n",
       "    }\n",
       "\n",
       "    .dataframe tbody tr th {\n",
       "        vertical-align: top;\n",
       "    }\n",
       "\n",
       "    .dataframe thead th {\n",
       "        text-align: right;\n",
       "    }\n",
       "</style>\n",
       "<table border=\"1\" class=\"dataframe\">\n",
       "  <thead>\n",
       "    <tr style=\"text-align: right;\">\n",
       "      <th></th>\n",
       "      <th>frequency</th>\n",
       "      <th>recency</th>\n",
       "      <th>T</th>\n",
       "      <th>monetary_value</th>\n",
       "      <th>ltv</th>\n",
       "      <th>predicted_purchases</th>\n",
       "      <th>predicted_monetary_value</th>\n",
       "    </tr>\n",
       "    <tr>\n",
       "      <th>CustomerID</th>\n",
       "      <th></th>\n",
       "      <th></th>\n",
       "      <th></th>\n",
       "      <th></th>\n",
       "      <th></th>\n",
       "      <th></th>\n",
       "      <th></th>\n",
       "    </tr>\n",
       "  </thead>\n",
       "  <tbody>\n",
       "    <tr>\n",
       "      <th>17450.0</th>\n",
       "      <td>26.0</td>\n",
       "      <td>359.0</td>\n",
       "      <td>367.0</td>\n",
       "      <td>7404.690385</td>\n",
       "      <td>161604.300420</td>\n",
       "      <td>24.452802</td>\n",
       "      <td>7144.098119</td>\n",
       "    </tr>\n",
       "    <tr>\n",
       "      <th>16446.0</th>\n",
       "      <td>1.0</td>\n",
       "      <td>205.0</td>\n",
       "      <td>205.0</td>\n",
       "      <td>168469.600000</td>\n",
       "      <td>162149.877070</td>\n",
       "      <td>2.082281</td>\n",
       "      <td>84178.331306</td>\n",
       "    </tr>\n",
       "    <tr>\n",
       "      <th>14096.0</th>\n",
       "      <td>16.0</td>\n",
       "      <td>97.0</td>\n",
       "      <td>101.0</td>\n",
       "      <td>4071.434375</td>\n",
       "      <td>167459.899323</td>\n",
       "      <td>46.959993</td>\n",
       "      <td>3854.836146</td>\n",
       "    </tr>\n",
       "    <tr>\n",
       "      <th>18102.0</th>\n",
       "      <td>25.0</td>\n",
       "      <td>367.0</td>\n",
       "      <td>367.0</td>\n",
       "      <td>9349.477200</td>\n",
       "      <td>195928.759145</td>\n",
       "      <td>23.523632</td>\n",
       "      <td>9003.615503</td>\n",
       "    </tr>\n",
       "    <tr>\n",
       "      <th>14646.0</th>\n",
       "      <td>44.0</td>\n",
       "      <td>353.0</td>\n",
       "      <td>354.0</td>\n",
       "      <td>6366.705909</td>\n",
       "      <td>245579.030012</td>\n",
       "      <td>42.587232</td>\n",
       "      <td>6233.543383</td>\n",
       "    </tr>\n",
       "  </tbody>\n",
       "</table>\n",
       "</div>"
      ],
      "text/plain": [
       "            frequency  recency      T  monetary_value            ltv  \\\n",
       "CustomerID                                                             \n",
       "17450.0          26.0    359.0  367.0     7404.690385  161604.300420   \n",
       "16446.0           1.0    205.0  205.0   168469.600000  162149.877070   \n",
       "14096.0          16.0     97.0  101.0     4071.434375  167459.899323   \n",
       "18102.0          25.0    367.0  367.0     9349.477200  195928.759145   \n",
       "14646.0          44.0    353.0  354.0     6366.705909  245579.030012   \n",
       "\n",
       "            predicted_purchases  predicted_monetary_value  \n",
       "CustomerID                                                 \n",
       "17450.0               24.452802               7144.098119  \n",
       "16446.0                2.082281              84178.331306  \n",
       "14096.0               46.959993               3854.836146  \n",
       "18102.0               23.523632               9003.615503  \n",
       "14646.0               42.587232               6233.543383  "
      ]
     },
     "execution_count": 154,
     "metadata": {},
     "output_type": "execute_result"
    }
   ],
   "source": [
    "final_df.sort_values(by=\"ltv\").tail(5)"
   ]
  },
  {
   "cell_type": "code",
   "execution_count": 150,
   "metadata": {},
   "outputs": [
    {
     "data": {
      "text/html": [
       "<div>\n",
       "<style scoped>\n",
       "    .dataframe tbody tr th:only-of-type {\n",
       "        vertical-align: middle;\n",
       "    }\n",
       "\n",
       "    .dataframe tbody tr th {\n",
       "        vertical-align: top;\n",
       "    }\n",
       "\n",
       "    .dataframe thead th {\n",
       "        text-align: right;\n",
       "    }\n",
       "</style>\n",
       "<table border=\"1\" class=\"dataframe\">\n",
       "  <thead>\n",
       "    <tr style=\"text-align: right;\">\n",
       "      <th></th>\n",
       "      <th>frequency</th>\n",
       "      <th>recency</th>\n",
       "      <th>T</th>\n",
       "      <th>monetary_value</th>\n",
       "      <th>ltv</th>\n",
       "      <th>predicted_purchases</th>\n",
       "    </tr>\n",
       "    <tr>\n",
       "      <th>CustomerID</th>\n",
       "      <th></th>\n",
       "      <th></th>\n",
       "      <th></th>\n",
       "      <th></th>\n",
       "      <th></th>\n",
       "      <th></th>\n",
       "    </tr>\n",
       "  </thead>\n",
       "  <tbody>\n",
       "    <tr>\n",
       "      <th>17450.0</th>\n",
       "      <td>26.0</td>\n",
       "      <td>359.0</td>\n",
       "      <td>367.0</td>\n",
       "      <td>7404.690385</td>\n",
       "      <td>161604.300420</td>\n",
       "      <td>24.452802</td>\n",
       "    </tr>\n",
       "    <tr>\n",
       "      <th>16446.0</th>\n",
       "      <td>1.0</td>\n",
       "      <td>205.0</td>\n",
       "      <td>205.0</td>\n",
       "      <td>168469.600000</td>\n",
       "      <td>162149.877070</td>\n",
       "      <td>2.082281</td>\n",
       "    </tr>\n",
       "    <tr>\n",
       "      <th>14096.0</th>\n",
       "      <td>16.0</td>\n",
       "      <td>97.0</td>\n",
       "      <td>101.0</td>\n",
       "      <td>4071.434375</td>\n",
       "      <td>167459.899323</td>\n",
       "      <td>46.959993</td>\n",
       "    </tr>\n",
       "    <tr>\n",
       "      <th>18102.0</th>\n",
       "      <td>25.0</td>\n",
       "      <td>367.0</td>\n",
       "      <td>367.0</td>\n",
       "      <td>9349.477200</td>\n",
       "      <td>195928.759145</td>\n",
       "      <td>23.523632</td>\n",
       "    </tr>\n",
       "    <tr>\n",
       "      <th>14646.0</th>\n",
       "      <td>44.0</td>\n",
       "      <td>353.0</td>\n",
       "      <td>354.0</td>\n",
       "      <td>6366.705909</td>\n",
       "      <td>245579.030012</td>\n",
       "      <td>42.587232</td>\n",
       "    </tr>\n",
       "  </tbody>\n",
       "</table>\n",
       "</div>"
      ],
      "text/plain": [
       "            frequency  recency      T  monetary_value            ltv  \\\n",
       "CustomerID                                                             \n",
       "17450.0          26.0    359.0  367.0     7404.690385  161604.300420   \n",
       "16446.0           1.0    205.0  205.0   168469.600000  162149.877070   \n",
       "14096.0          16.0     97.0  101.0     4071.434375  167459.899323   \n",
       "18102.0          25.0    367.0  367.0     9349.477200  195928.759145   \n",
       "14646.0          44.0    353.0  354.0     6366.705909  245579.030012   \n",
       "\n",
       "            predicted_purchases  \n",
       "CustomerID                       \n",
       "17450.0               24.452802  \n",
       "16446.0                2.082281  \n",
       "14096.0               46.959993  \n",
       "18102.0               23.523632  \n",
       "14646.0               42.587232  "
      ]
     },
     "execution_count": 150,
     "metadata": {},
     "output_type": "execute_result"
    }
   ],
   "source": [
    "# 고객 순위 매기기\n",
    "final_df.sort_values(by=\"ltv\").tail(5)\n",
    "# 14911번 고객은 3일에 한 번 꼴로 살 것이라 예상"
   ]
  },
  {
   "cell_type": "code",
   "execution_count": null,
   "metadata": {},
   "outputs": [],
   "source": [
    "import matplotlib.pyplot as plt\n",
    "fig = plt.figure(figsize=(12,8))\n",
    "plot_frequency_recency_matrix(lifetimes_model)"
   ]
  },
  {
   "cell_type": "code",
   "execution_count": null,
   "metadata": {},
   "outputs": [],
   "source": [
    "from lifetimes.plotting import plot_probability_alive_matrix\n",
    "plot_probability_alive_matrix(lifetimes_model)"
   ]
  },
  {
   "cell_type": "code",
   "execution_count": 149,
   "metadata": {},
   "outputs": [
    {
     "data": {
      "text/html": [
       "<div>\n",
       "<style scoped>\n",
       "    .dataframe tbody tr th:only-of-type {\n",
       "        vertical-align: middle;\n",
       "    }\n",
       "\n",
       "    .dataframe tbody tr th {\n",
       "        vertical-align: top;\n",
       "    }\n",
       "\n",
       "    .dataframe thead th {\n",
       "        text-align: right;\n",
       "    }\n",
       "</style>\n",
       "<table border=\"1\" class=\"dataframe\">\n",
       "  <thead>\n",
       "    <tr style=\"text-align: right;\">\n",
       "      <th></th>\n",
       "      <th>frequency</th>\n",
       "      <th>recency</th>\n",
       "      <th>T</th>\n",
       "      <th>monetary_value</th>\n",
       "      <th>ltv</th>\n",
       "      <th>predicted_purchases</th>\n",
       "    </tr>\n",
       "    <tr>\n",
       "      <th>CustomerID</th>\n",
       "      <th></th>\n",
       "      <th></th>\n",
       "      <th></th>\n",
       "      <th></th>\n",
       "      <th></th>\n",
       "      <th></th>\n",
       "    </tr>\n",
       "  </thead>\n",
       "  <tbody>\n",
       "    <tr>\n",
       "      <th>14606.0</th>\n",
       "      <td>88.0</td>\n",
       "      <td>372.0</td>\n",
       "      <td>373.0</td>\n",
       "      <td>135.890114</td>\n",
       "      <td>10393.000311</td>\n",
       "      <td>80.826792</td>\n",
       "    </tr>\n",
       "    <tr>\n",
       "      <th>15311.0</th>\n",
       "      <td>89.0</td>\n",
       "      <td>373.0</td>\n",
       "      <td>373.0</td>\n",
       "      <td>677.729438</td>\n",
       "      <td>51022.513272</td>\n",
       "      <td>81.741983</td>\n",
       "    </tr>\n",
       "    <tr>\n",
       "      <th>17841.0</th>\n",
       "      <td>111.0</td>\n",
       "      <td>372.0</td>\n",
       "      <td>373.0</td>\n",
       "      <td>364.452162</td>\n",
       "      <td>34386.342599</td>\n",
       "      <td>101.876193</td>\n",
       "    </tr>\n",
       "    <tr>\n",
       "      <th>12748.0</th>\n",
       "      <td>113.0</td>\n",
       "      <td>373.0</td>\n",
       "      <td>373.0</td>\n",
       "      <td>298.360885</td>\n",
       "      <td>28718.860152</td>\n",
       "      <td>103.706576</td>\n",
       "    </tr>\n",
       "    <tr>\n",
       "      <th>14911.0</th>\n",
       "      <td>131.0</td>\n",
       "      <td>372.0</td>\n",
       "      <td>373.0</td>\n",
       "      <td>1093.661679</td>\n",
       "      <td>121009.697788</td>\n",
       "      <td>120.180020</td>\n",
       "    </tr>\n",
       "  </tbody>\n",
       "</table>\n",
       "</div>"
      ],
      "text/plain": [
       "            frequency  recency      T  monetary_value            ltv  \\\n",
       "CustomerID                                                             \n",
       "14606.0          88.0    372.0  373.0      135.890114   10393.000311   \n",
       "15311.0          89.0    373.0  373.0      677.729438   51022.513272   \n",
       "17841.0         111.0    372.0  373.0      364.452162   34386.342599   \n",
       "12748.0         113.0    373.0  373.0      298.360885   28718.860152   \n",
       "14911.0         131.0    372.0  373.0     1093.661679  121009.697788   \n",
       "\n",
       "            predicted_purchases  \n",
       "CustomerID                       \n",
       "14606.0               80.826792  \n",
       "15311.0               81.741983  \n",
       "17841.0              101.876193  \n",
       "12748.0              103.706576  \n",
       "14911.0              120.180020  "
      ]
     },
     "execution_count": 149,
     "metadata": {},
     "output_type": "execute_result"
    }
   ],
   "source": [
    "# 고객 순위 매기기\n",
    "t=365\n",
    "final_df['predicted_purchases'] = lifetimes_model.conditional_expected_number_of_purchases_up_to_time(t\n",
    "                                                                                      , final_df['frequency']\n",
    "                                                                                     , final_df['recency']\n",
    "                                                                                     , final_df['T'])\n",
    "\n",
    "final_df.sort_values(by=\"predicted_purchases\").tail(5)\n",
    "# 14911번 고객은 3일에 한 번 꼴로 살 것이라 예상"
   ]
  },
  {
   "cell_type": "code",
   "execution_count": null,
   "metadata": {},
   "outputs": [],
   "source": []
  }
 ],
 "metadata": {
  "kernelspec": {
   "display_name": "Python 3",
   "language": "python",
   "name": "python3"
  },
  "language_info": {
   "codemirror_mode": {
    "name": "ipython",
    "version": 3
   },
   "file_extension": ".py",
   "mimetype": "text/x-python",
   "name": "python",
   "nbconvert_exporter": "python",
   "pygments_lexer": "ipython3",
   "version": "3.8.3"
  }
 },
 "nbformat": 4,
 "nbformat_minor": 4
}
